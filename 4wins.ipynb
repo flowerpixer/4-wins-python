{
  "nbformat": 4,
  "nbformat_minor": 0,
  "metadata": {
    "colab": {
      "provenance": [],
      "authorship_tag": "ABX9TyPLw9vcKezIL/7ktP+AdwEB",
      "include_colab_link": true
    },
    "kernelspec": {
      "name": "python3",
      "display_name": "Python 3"
    },
    "language_info": {
      "name": "python"
    }
  },
  "cells": [
    {
      "cell_type": "markdown",
      "metadata": {
        "id": "view-in-github",
        "colab_type": "text"
      },
      "source": [
        "<a href=\"https://colab.research.google.com/github/flowerpixer/4-wins-python/blob/main/4wins.ipynb\" target=\"_parent\"><img src=\"https://colab.research.google.com/assets/colab-badge.svg\" alt=\"Open In Colab\"/></a>"
      ]
    },
    {
      "cell_type": "code",
      "execution_count": 1,
      "metadata": {
        "id": "7Abj__0_booG"
      },
      "outputs": [],
      "source": [
        "import numpy as np"
      ]
    },
    {
      "cell_type": "code",
      "source": [
        "def createboard():\n",
        "  board = np.zeros((6,7),dtype = int)\n",
        "  return board\n",
        "board = createboard()"
      ],
      "metadata": {
        "id": "xoU3GBJ7dJA6"
      },
      "execution_count": null,
      "outputs": []
    },
    {
      "cell_type": "code",
      "source": [
        "def make_move(board, column, player):\n",
        "  \"\"\"Fügt einen Spielstein in die angegebene Spalte für den angegebenen Spieler ein.\"\"\"\n",
        "  while column < 1 or column > 7 or board[0, column - 1] != 0:\n",
        "    if column < 1 or column > 7:\n",
        "      print(\"Choose another column, this one is non existent\")\n",
        "    elif board[0, column - 1] != 0:\n",
        "      print(\"Choose another column, this one is too full\")\n",
        "    column = int(input(\"New column:\"))\n",
        "      # Finde die nächste freie Zeile in der Spalte\n",
        "  row = 5\n",
        "  while board[row, column - 1] != 0:\n",
        "    row -= 1\n",
        "      # Setze die Zelle mit dem Spielersymbol\n",
        "  board[row, column - 1] = player"
      ],
      "metadata": {
        "id": "i2mvZaIidJA7"
      },
      "execution_count": null,
      "outputs": []
    },
    {
      "cell_type": "code",
      "source": [
        "def check_win(board, player):\n",
        "  \"\"\"Überprüft, ob der angegebene Spieler gewonnen hat.\"\"\"\n",
        "\n",
        "  # Horizontale Verbindungen\n",
        "  for row in range(6):\n",
        "    for col in range(4):\n",
        "      if board[row, col] == player and board[row, col + 1] == player and board[row, col + 2] == player and board[row, col + 3] == player:\n",
        "        return True\n",
        "\n",
        "  # Vertikale Verbindungen\n",
        "  for row in range(3):\n",
        "    for col in range(7):\n",
        "      if board[row, col] == player and board[row + 1, col] == player and board[row + 2, col] == player and board[row + 3, col] == player:\n",
        "        return True\n",
        "\n",
        "  # Diagonale Verbindungen (nach rechts unten)\n",
        "  for row in range(3):\n",
        "    for col in range(4):\n",
        "      if board[row, col] == player and board[row + 1, col + 1] == player and board[row + 2, col + 2] == player and board[row + 3, col + 3] == player:\n",
        "        return True\n",
        "\n",
        "  # Diagonale Verbindungen (nach links unten)\n",
        "  for row in range(3):\n",
        "    for col in range(3):\n",
        "      if board[row, col + 3] == player and board[row + 1, col + 2] == player and board[row + 2, col + 1] == player and board[row + 3, col] == player:\n",
        "        return True\n",
        "\n",
        "  return False"
      ],
      "metadata": {
        "id": "grDv-FXmdJA7"
      },
      "execution_count": null,
      "outputs": []
    },
    {
      "cell_type": "code",
      "source": [
        "def print_board(board):\n",
        "  \"\"\"Druckt eine übersichtliche Darstellung des Spielbretts.\"\"\"\n",
        "  print(\"| 1 | 2 | 3 | 4 | 5 | 6 | 7 |\")\n",
        "  for row in board:\n",
        "    for cell in row:\n",
        "      if cell == 0:\n",
        "        print(\"|   \", end=\"\")\n",
        "      elif cell == 1:\n",
        "        print(\"| X \", end=\"\")\n",
        "      else:\n",
        "        print(\"| O \", end=\"\")\n",
        "    print(\"|\")"
      ],
      "metadata": {
        "id": "Bq8RVX1LdJA7"
      },
      "execution_count": null,
      "outputs": []
    },
    {
      "cell_type": "code",
      "source": [
        "def sim_move_AI(board_copy, column, player):\n",
        "  row = 5\n",
        "  while board_copy[row, column - 1] != 0:\n",
        "    row -= 1\n",
        "      # Setze die Zelle mit dem Spielersymbol\n",
        "  board_copyx2[row, column - 1] = player"
      ],
      "metadata": {
        "id": "WBXnTKEMdJA7"
      },
      "execution_count": null,
      "outputs": []
    },
    {
      "cell_type": "code",
      "source": [
        "def ai_valid_moves(board):\n",
        "  valid_moves = []\n",
        "  column = 1\n",
        "  while column < 7 and board[0, column] == 0:\n",
        "    valid_moves.append(column + 1)\n",
        "    column += 1\n",
        "  return valid_moves"
      ],
      "metadata": {
        "id": "O8rlqmFsdJA7"
      },
      "execution_count": null,
      "outputs": []
    },
    {
      "cell_type": "code",
      "source": [
        "def minimax(board, depth, player):\n",
        "  #base case?\n",
        "  depth_count = 0\n",
        "  score = []\n",
        "  column = 1\n",
        "  board_copy = board.copy()\n",
        "  while (depth_count == depth)== False:\n",
        "    valid_moves = ai_valid_moves(board_copy)\n",
        "    for column in valid_moves:\n",
        "      if check_win(board_copyx2) == True:\n",
        "        score.append(column + 10)\n",
        "      else:\n",
        "        board_copyx2 = board_copy.copy()\n",
        "        sim_move_AI(board_copyx2, column)\n",
        "        #score.append(calcscore(board_copyx2))\n",
        "      column.next\n",
        "    highscorecolumn = []\n",
        "    highscorecolumn.append(valid_moves[score.index(max(score))])\n",
        "    board_copy = make_move(board_copy, highscorecolumn[depth_count], 2)\n",
        "    valid_moves = ai_valid_moves(board_copy)\n",
        "    column = 1\n",
        "    score = score.clear()\n",
        "    for column in valid_moves:\n",
        "      if check_win(board_copyx2) == True:\n",
        "        score.append(column + 10)\n",
        "      else:\n",
        "        board_copyx2 = board_copy.copy()\n",
        "        sim_move_AI(board_copyx2, column)\n",
        "        #score.append(calcscore(board_copyx2))\n",
        "      column.next\n",
        "    highscorecolumn.append(valid_moves[score.index(min(score))])\n",
        "    board_copy = make_move(board_copy, highscorecolumn[depth_count + 1], 1)\n",
        "    depth_count += 1\n",
        "  return score"
      ],
      "metadata": {
        "id": "LwCO-aHOdJA7"
      },
      "execution_count": null,
      "outputs": []
    },
    {
      "cell_type": "code",
      "source": [
        "def play_game():\n",
        "  \"\"\"Spielt ein Connect Four Spiel.\"\"\"\n",
        "  board = createboard()\n",
        "  player = 1\n",
        "  while True:\n",
        "    print_board(board)\n",
        "\n",
        "    # Hole Spielzug vom aktuellen Spieler\n",
        "    if player == 1:\n",
        "      column = int(input(\"Spieler {}: Wähle eine Spalte (1-7): \".format(player)))\n",
        "      make_move(board, column, player)\n",
        "    else:\n",
        "      valid_moves = ai_valid_moves(board)\n",
        "\n",
        "    # Prüfe auf Spielende\n",
        "    if check_win(board, player):\n",
        "      print_board(board)\n",
        "      print(\"Spieler {} hat gewonnen!\".format(player))\n",
        "      print(\"\")\n",
        "      #print(play_game())\n",
        "    if np.all(board[0, :] != 0) and not check_win(board, 1) and not check_win(board, 2):\n",
        "      print_board(board)\n",
        "      print(\"Unentschieden! Das Spielbrett ist voll.\")\n",
        "      print(\"\")\n",
        "      #print(play_game())\n",
        "\n",
        "    # Wechsle zum nächsten Spieler\n",
        "    if player == 1:\n",
        "      player += 1\n",
        "    else:\n",
        "      player -= 1\n",
        "\n"
      ],
      "metadata": {
        "id": "mxrBnmKqdJA7"
      },
      "execution_count": null,
      "outputs": []
    },
    {
      "cell_type": "code",
      "source": [
        "score = []\n",
        "highscorecolumn = []\n",
        "board_copy = board.copy()\n",
        "def minimax_recursive(board, depth, player):\n",
        "  column = 1\n",
        "  valid_moves = ai_valid_moves(board_copy)\n",
        "  for column in valid_moves:\n",
        "    board_copyx2 = board_copy.copy()\n",
        "    #base case?\n",
        "    if check_win(board_copyx2) == True:\n",
        "      score.append(10)\n",
        "    elif depth == 0:\n",
        "      return(calcscore(board_copy))\n",
        "    #(not)logic\n",
        "    else:\n",
        "      sim_move_AI(board_copyx2, column)\n",
        "      score.append(calcscore(board_copyx2))\n",
        "    column.next\n",
        "  if player == 1:\n",
        "    highscorecolumn.append(valid_moves[score.index(max(score))])\n",
        "  elif player == 2:\n",
        "    highscorecolumn.append(valid_moves[score.index(min(score))])\n",
        "  board_copy = make_move(board_copy, highscorecolumn, player)\n",
        "  valid_moves = ai_valid_moves(board_copy)\n",
        "  depth -1\n",
        "  #move of opponent, player, opponent, ...\n",
        "  minimax_recursive(board_copy, depth, player % 2 + 1, depth)"
      ],
      "metadata": {
        "id": "F7jELnkPdJA7"
      },
      "execution_count": null,
      "outputs": []
    },
    {
      "cell_type": "code",
      "source": [
        "print(play_game())"
      ],
      "metadata": {
        "colab": {
          "base_uri": "https://localhost:8080/",
          "height": 929
        },
        "outputId": "ceb0c121-4eb6-4384-8b99-60aa6c7cb873",
        "id": "1jazT-vgdJA8"
      },
      "execution_count": null,
      "outputs": [
        {
          "output_type": "stream",
          "name": "stdout",
          "text": [
            "| 1 | 2 | 3 | 4 | 5 | 6 | 7 |\n",
            "|   |   |   |   |   |   |   |\n",
            "|   |   |   |   |   |   |   |\n",
            "|   |   |   |   |   |   |   |\n",
            "|   |   |   |   |   |   |   |\n",
            "|   |   |   |   |   |   |   |\n",
            "|   |   |   |   |   |   |   |\n",
            "Spieler 1: Wähle eine Spalte (1-7): 4\n",
            "| 1 | 2 | 3 | 4 | 5 | 6 | 7 |\n",
            "|   |   |   |   |   |   |   |\n",
            "|   |   |   |   |   |   |   |\n",
            "|   |   |   |   |   |   |   |\n",
            "|   |   |   |   |   |   |   |\n",
            "|   |   |   |   |   |   |   |\n",
            "|   |   |   | X |   |   |   |\n",
            "| 1 | 2 | 3 | 4 | 5 | 6 | 7 |\n",
            "|   |   |   |   |   |   |   |\n",
            "|   |   |   |   |   |   |   |\n",
            "|   |   |   |   |   |   |   |\n",
            "|   |   |   |   |   |   |   |\n",
            "|   |   |   |   |   |   |   |\n",
            "|   |   |   | X |   |   |   |\n",
            "Spieler 1: Wähle eine Spalte (1-7): 6\n",
            "| 1 | 2 | 3 | 4 | 5 | 6 | 7 |\n",
            "|   |   |   |   |   |   |   |\n",
            "|   |   |   |   |   |   |   |\n",
            "|   |   |   |   |   |   |   |\n",
            "|   |   |   |   |   |   |   |\n",
            "|   |   |   |   |   |   |   |\n",
            "|   |   |   | X |   | X |   |\n",
            "| 1 | 2 | 3 | 4 | 5 | 6 | 7 |\n",
            "|   |   |   |   |   |   |   |\n",
            "|   |   |   |   |   |   |   |\n",
            "|   |   |   |   |   |   |   |\n",
            "|   |   |   |   |   |   |   |\n",
            "|   |   |   |   |   |   |   |\n",
            "|   |   |   | X |   | X |   |\n"
          ]
        },
        {
          "output_type": "error",
          "ename": "KeyboardInterrupt",
          "evalue": "Interrupted by user",
          "traceback": [
            "\u001b[0;31m---------------------------------------------------------------------------\u001b[0m",
            "\u001b[0;31mKeyboardInterrupt\u001b[0m                         Traceback (most recent call last)",
            "\u001b[0;32m<ipython-input-15-890c7478535e>\u001b[0m in \u001b[0;36m<cell line: 1>\u001b[0;34m()\u001b[0m\n\u001b[0;32m----> 1\u001b[0;31m \u001b[0mprint\u001b[0m\u001b[0;34m(\u001b[0m\u001b[0mplay_game\u001b[0m\u001b[0;34m(\u001b[0m\u001b[0;34m)\u001b[0m\u001b[0;34m)\u001b[0m\u001b[0;34m\u001b[0m\u001b[0;34m\u001b[0m\u001b[0m\n\u001b[0m",
            "\u001b[0;32m<ipython-input-9-f4be628f2680>\u001b[0m in \u001b[0;36mplay_game\u001b[0;34m()\u001b[0m\n\u001b[1;32m      8\u001b[0m     \u001b[0;31m# Hole Spielzug vom aktuellen Spieler\u001b[0m\u001b[0;34m\u001b[0m\u001b[0;34m\u001b[0m\u001b[0m\n\u001b[1;32m      9\u001b[0m     \u001b[0;32mif\u001b[0m \u001b[0mplayer\u001b[0m \u001b[0;34m==\u001b[0m \u001b[0;36m1\u001b[0m\u001b[0;34m:\u001b[0m\u001b[0;34m\u001b[0m\u001b[0;34m\u001b[0m\u001b[0m\n\u001b[0;32m---> 10\u001b[0;31m       \u001b[0mcolumn\u001b[0m \u001b[0;34m=\u001b[0m \u001b[0mint\u001b[0m\u001b[0;34m(\u001b[0m\u001b[0minput\u001b[0m\u001b[0;34m(\u001b[0m\u001b[0;34m\"Spieler {}: Wähle eine Spalte (1-7): \"\u001b[0m\u001b[0;34m.\u001b[0m\u001b[0mformat\u001b[0m\u001b[0;34m(\u001b[0m\u001b[0mplayer\u001b[0m\u001b[0;34m)\u001b[0m\u001b[0;34m)\u001b[0m\u001b[0;34m)\u001b[0m\u001b[0;34m\u001b[0m\u001b[0;34m\u001b[0m\u001b[0m\n\u001b[0m\u001b[1;32m     11\u001b[0m       \u001b[0mmake_move\u001b[0m\u001b[0;34m(\u001b[0m\u001b[0mboard\u001b[0m\u001b[0;34m,\u001b[0m \u001b[0mcolumn\u001b[0m\u001b[0;34m,\u001b[0m \u001b[0mplayer\u001b[0m\u001b[0;34m)\u001b[0m\u001b[0;34m\u001b[0m\u001b[0;34m\u001b[0m\u001b[0m\n\u001b[1;32m     12\u001b[0m     \u001b[0;32melse\u001b[0m\u001b[0;34m:\u001b[0m\u001b[0;34m\u001b[0m\u001b[0;34m\u001b[0m\u001b[0m\n",
            "\u001b[0;32m/usr/local/lib/python3.10/dist-packages/ipykernel/kernelbase.py\u001b[0m in \u001b[0;36mraw_input\u001b[0;34m(self, prompt)\u001b[0m\n\u001b[1;32m    849\u001b[0m                 \u001b[0;34m\"raw_input was called, but this frontend does not support input requests.\"\u001b[0m\u001b[0;34m\u001b[0m\u001b[0;34m\u001b[0m\u001b[0m\n\u001b[1;32m    850\u001b[0m             )\n\u001b[0;32m--> 851\u001b[0;31m         return self._input_request(str(prompt),\n\u001b[0m\u001b[1;32m    852\u001b[0m             \u001b[0mself\u001b[0m\u001b[0;34m.\u001b[0m\u001b[0m_parent_ident\u001b[0m\u001b[0;34m,\u001b[0m\u001b[0;34m\u001b[0m\u001b[0;34m\u001b[0m\u001b[0m\n\u001b[1;32m    853\u001b[0m             \u001b[0mself\u001b[0m\u001b[0;34m.\u001b[0m\u001b[0m_parent_header\u001b[0m\u001b[0;34m,\u001b[0m\u001b[0;34m\u001b[0m\u001b[0;34m\u001b[0m\u001b[0m\n",
            "\u001b[0;32m/usr/local/lib/python3.10/dist-packages/ipykernel/kernelbase.py\u001b[0m in \u001b[0;36m_input_request\u001b[0;34m(self, prompt, ident, parent, password)\u001b[0m\n\u001b[1;32m    893\u001b[0m             \u001b[0;32mexcept\u001b[0m \u001b[0mKeyboardInterrupt\u001b[0m\u001b[0;34m:\u001b[0m\u001b[0;34m\u001b[0m\u001b[0;34m\u001b[0m\u001b[0m\n\u001b[1;32m    894\u001b[0m                 \u001b[0;31m# re-raise KeyboardInterrupt, to truncate traceback\u001b[0m\u001b[0;34m\u001b[0m\u001b[0;34m\u001b[0m\u001b[0m\n\u001b[0;32m--> 895\u001b[0;31m                 \u001b[0;32mraise\u001b[0m \u001b[0mKeyboardInterrupt\u001b[0m\u001b[0;34m(\u001b[0m\u001b[0;34m\"Interrupted by user\"\u001b[0m\u001b[0;34m)\u001b[0m \u001b[0;32mfrom\u001b[0m \u001b[0;32mNone\u001b[0m\u001b[0;34m\u001b[0m\u001b[0;34m\u001b[0m\u001b[0m\n\u001b[0m\u001b[1;32m    896\u001b[0m             \u001b[0;32mexcept\u001b[0m \u001b[0mException\u001b[0m \u001b[0;32mas\u001b[0m \u001b[0me\u001b[0m\u001b[0;34m:\u001b[0m\u001b[0;34m\u001b[0m\u001b[0;34m\u001b[0m\u001b[0m\n\u001b[1;32m    897\u001b[0m                 \u001b[0mself\u001b[0m\u001b[0;34m.\u001b[0m\u001b[0mlog\u001b[0m\u001b[0;34m.\u001b[0m\u001b[0mwarning\u001b[0m\u001b[0;34m(\u001b[0m\u001b[0;34m\"Invalid Message:\"\u001b[0m\u001b[0;34m,\u001b[0m \u001b[0mexc_info\u001b[0m\u001b[0;34m=\u001b[0m\u001b[0;32mTrue\u001b[0m\u001b[0;34m)\u001b[0m\u001b[0;34m\u001b[0m\u001b[0;34m\u001b[0m\u001b[0m\n",
            "\u001b[0;31mKeyboardInterrupt\u001b[0m: Interrupted by user"
          ]
        }
      ]
    }
  ]
}